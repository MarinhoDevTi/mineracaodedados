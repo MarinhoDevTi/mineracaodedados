{
 "cells": [
  {
   "cell_type": "code",
   "execution_count": 3,
   "id": "1f0e3684",
   "metadata": {},
   "outputs": [],
   "source": [
    "import numpy as np\n",
    "import pandas as pd\n",
    "import random\n",
    "import matplotlib.pyplot as plt\n",
    "\n",
    "random.seed(42)"
   ]
  },
  {
   "cell_type": "code",
   "execution_count": 6,
   "id": "0d6c68ad",
   "metadata": {},
   "outputs": [
    {
     "ename": "SyntaxError",
     "evalue": "leading zeros in decimal integer literals are not permitted; use an 0o prefix for octal integers (2482762774.py, line 1)",
     "output_type": "error",
     "traceback": [
      "\u001b[0;36m  Cell \u001b[0;32mIn[6], line 1\u001b[0;36m\u001b[0m\n\u001b[0;31m    [20:36, 17/05/2023] Kedmiel: data = pd.read_csv('Vehicle.csv', header = (0))\u001b[0m\n\u001b[0m               ^\u001b[0m\n\u001b[0;31mSyntaxError\u001b[0m\u001b[0;31m:\u001b[0m leading zeros in decimal integer literals are not permitted; use an 0o prefix for octal integers\n"
     ]
    }
   ],
   "source": [
    "[20:36, 17/05/2023] Kedmiel: data = pd.read_csv('Vehicle.csv', header = (0))\n",
    "\n",
    "data = data.dropna(axis='rows')\n",
    "\n",
    "classes = np.array(pd.unique(data[data.columns[-1]]), dtype=str)\n",
    "\n",
    "feat_names =data.columns\n",
    "\n",
    "attributes = list(data.columns[0:-2])\n",
    "\n",
    "data.head(10)\n",
    "[20:36, 17/05/2023] Kedmiel: data = data.to_numpy()\n",
    "\n",
    "y = data [:,-1]\n",
    "x = data [:,0:-1]\n",
    "[20:36, 17/05/2023] Kedmiel: from sklearn.model_selection import train_test_split\n",
    "\n",
    "p = 0.2\n",
    "\n",
    "x_train, x_test, y_train, y_test = train_test_split(x,y,test_size = p,random_state=42)\n",
    "[20:36, 17/05/2023] Kedmiel: !pip install scikit-learn\n",
    "[20:36, 17/05/2023] Kedmiel: from sklearn import tree\n",
    "model = tree.DecisionTreeClassifier(criterion='gini',random_state = 42)\n",
    "\n",
    "model.fit(x_train,y_train)\n",
    "y_pred = model.predict(x_test)\n",
    "[20:36, 17/05/2023] Kedmiel: plt.figure(figsize=(15,10))\n",
    "\n",
    "tree.plot_tree(model.fit(x_train,y_train),filled=True)\n",
    "plt.show()\n",
    "[20:36, 17/05/2023] Kedmiel: model = tree.DecisionTreeClassifier(criterion ='entropy',max_depth=2)\n",
    "\n",
    "model.fit(x_train,y_train)\n",
    "y_pred = model.predict(x_test)\n",
    "\n",
    "score = accuracy_score(y_test,y_pred)\n",
    "\n",
    "print('Acuracia: ', score)\n",
    "[20:36, 17/05/2023] Kedmiel: plt.figure(figsize=(10,6))\n",
    "\n",
    "tree.plot_tree(model.fit(x_train,y_train),filled=True)\n",
    "plt.show()\n",
    "[20:36, 17/05/2023] Kedmiel: from sklearn.metrics import accuracy_score\n",
    "[20:36, 17/05/2023] Kedmiel: from sklearn.ensemble import RandomForestClassifier\n",
    "model = RandomForestClassifier(n_estimators=100, bootstrap = True, class_weight =None, max_depth =None,max_features='sqrt', max_leaf_nodes =None,min_impurity_decrease=0.0, min_samples_leaf =1, min_samples_split =2, min_weight_fraction_leaf=0.0, n_jobs=1, oob_score=False, random_state=None,verbose=0, warm_start=False)\n",
    "\n",
    "model.fit(x_train,y_train)\n",
    "y_pred = model.predict(x_test)\n",
    "\n",
    "score = accuracy_score(y_test,y_pred)\n",
    "\n",
    "print(\"Acuracia: \",score)"
   ]
  },
  {
   "cell_type": "code",
   "execution_count": null,
   "id": "219c48ac",
   "metadata": {},
   "outputs": [],
   "source": []
  }
 ],
 "metadata": {
  "kernelspec": {
   "display_name": "Python 3 (ipykernel)",
   "language": "python",
   "name": "python3"
  },
  "language_info": {
   "codemirror_mode": {
    "name": "ipython",
    "version": 3
   },
   "file_extension": ".py",
   "mimetype": "text/x-python",
   "name": "python",
   "nbconvert_exporter": "python",
   "pygments_lexer": "ipython3",
   "version": "3.10.6"
  }
 },
 "nbformat": 4,
 "nbformat_minor": 5
}
