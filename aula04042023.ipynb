{
 "cells": [
  {
   "cell_type": "code",
   "execution_count": 1,
   "id": "3633f0a2",
   "metadata": {},
   "outputs": [
    {
     "ename": "SyntaxError",
     "evalue": "invalid syntax (2867582002.py, line 2)",
     "output_type": "error",
     "traceback": [
      "\u001b[0;36m  Cell \u001b[0;32mIn[1], line 2\u001b[0;36m\u001b[0m\n\u001b[0;31m    nome2=\u001b[0m\n\u001b[0m          ^\u001b[0m\n\u001b[0;31mSyntaxError\u001b[0m\u001b[0;31m:\u001b[0m invalid syntax\n"
     ]
    }
   ],
   "source": [
    "nome1=\"João Pancadão\"\n",
    "nome2=\"Marina Silva\"\n"
   ]
  },
  {
   "cell_type": "code",
   "execution_count": 2,
   "id": "1f1c775f",
   "metadata": {},
   "outputs": [],
   "source": [
    "nome1=\"João Pancadão\"\n",
    "nome2=\"Marina Silva\""
   ]
  },
  {
   "cell_type": "code",
   "execution_count": 3,
   "id": "b2080df4",
   "metadata": {},
   "outputs": [
    {
     "data": {
      "text/plain": [
       "'J'"
      ]
     },
     "execution_count": 3,
     "metadata": {},
     "output_type": "execute_result"
    }
   ],
   "source": [
    "nome1[0]"
   ]
  },
  {
   "cell_type": "code",
   "execution_count": 4,
   "id": "3b00e48f",
   "metadata": {},
   "outputs": [
    {
     "data": {
      "text/plain": [
       "'a'"
      ]
     },
     "execution_count": 4,
     "metadata": {},
     "output_type": "execute_result"
    }
   ],
   "source": [
    "nome1[6]"
   ]
  },
  {
   "cell_type": "code",
   "execution_count": 5,
   "id": "a2e93f25",
   "metadata": {},
   "outputs": [
    {
     "data": {
      "text/plain": [
       "'ã'"
      ]
     },
     "execution_count": 5,
     "metadata": {},
     "output_type": "execute_result"
    }
   ],
   "source": [
    "nome1[-2]"
   ]
  },
  {
   "cell_type": "code",
   "execution_count": 6,
   "id": "801f51d0",
   "metadata": {},
   "outputs": [
    {
     "data": {
      "text/plain": [
       "'Jo'"
      ]
     },
     "execution_count": 6,
     "metadata": {},
     "output_type": "execute_result"
    }
   ],
   "source": [
    "nome1[:2]"
   ]
  },
  {
   "cell_type": "code",
   "execution_count": 7,
   "id": "e7b11b82",
   "metadata": {},
   "outputs": [
    {
     "data": {
      "text/plain": [
       "'ão '"
      ]
     },
     "execution_count": 7,
     "metadata": {},
     "output_type": "execute_result"
    }
   ],
   "source": [
    "nome1[2:5]"
   ]
  },
  {
   "cell_type": "code",
   "execution_count": 8,
   "id": "c0390d0d",
   "metadata": {},
   "outputs": [
    {
     "data": {
      "text/plain": [
       "13"
      ]
     },
     "execution_count": 8,
     "metadata": {},
     "output_type": "execute_result"
    }
   ],
   "source": [
    "len(nome1)"
   ]
  },
  {
   "cell_type": "code",
   "execution_count": 9,
   "id": "4d26331e",
   "metadata": {},
   "outputs": [
    {
     "ename": "TypeError",
     "evalue": "'str' object does not support item assignment",
     "output_type": "error",
     "traceback": [
      "\u001b[0;31m---------------------------------------------------------------------------\u001b[0m",
      "\u001b[0;31mTypeError\u001b[0m                                 Traceback (most recent call last)",
      "Cell \u001b[0;32mIn[9], line 1\u001b[0m\n\u001b[0;32m----> 1\u001b[0m \u001b[43mnome1\u001b[49m\u001b[43m[\u001b[49m\u001b[38;5;241;43m5\u001b[39;49m\u001b[43m]\u001b[49m\u001b[38;5;241m=\u001b[39m\u001b[38;5;124m'\u001b[39m\u001b[38;5;124ml\u001b[39m\u001b[38;5;124m'\u001b[39m\n",
      "\u001b[0;31mTypeError\u001b[0m: 'str' object does not support item assignment"
     ]
    }
   ],
   "source": [
    "nome1[5]='l'"
   ]
  },
  {
   "cell_type": "code",
   "execution_count": 10,
   "id": "a7851d60",
   "metadata": {},
   "outputs": [
    {
     "ename": "AttributeError",
     "evalue": "'str' object has no attribute 'uopper'",
     "output_type": "error",
     "traceback": [
      "\u001b[0;31m---------------------------------------------------------------------------\u001b[0m",
      "\u001b[0;31mAttributeError\u001b[0m                            Traceback (most recent call last)",
      "Cell \u001b[0;32mIn[10], line 1\u001b[0m\n\u001b[0;32m----> 1\u001b[0m \u001b[43mnome1\u001b[49m\u001b[38;5;241;43m.\u001b[39;49m\u001b[43muopper\u001b[49m()\n",
      "\u001b[0;31mAttributeError\u001b[0m: 'str' object has no attribute 'uopper'"
     ]
    }
   ],
   "source": [
    "nome1.uopper()"
   ]
  },
  {
   "cell_type": "code",
   "execution_count": 11,
   "id": "c5f42bee",
   "metadata": {},
   "outputs": [
    {
     "data": {
      "text/plain": [
       "'JOÃO PANCADÃO'"
      ]
     },
     "execution_count": 11,
     "metadata": {},
     "output_type": "execute_result"
    }
   ],
   "source": [
    "nome1.upper()"
   ]
  },
  {
   "cell_type": "code",
   "execution_count": 12,
   "id": "3d032bfb",
   "metadata": {},
   "outputs": [
    {
     "data": {
      "text/plain": [
       "False"
      ]
     },
     "execution_count": 12,
     "metadata": {},
     "output_type": "execute_result"
    }
   ],
   "source": [
    "nome1.startswith(\"Pedro\")"
   ]
  },
  {
   "cell_type": "code",
   "execution_count": 13,
   "id": "ae6a32e6",
   "metadata": {},
   "outputs": [
    {
     "ename": "AttributeError",
     "evalue": "'str' object has no attribute 'startswitsh'",
     "output_type": "error",
     "traceback": [
      "\u001b[0;31m---------------------------------------------------------------------------\u001b[0m",
      "\u001b[0;31mAttributeError\u001b[0m                            Traceback (most recent call last)",
      "Cell \u001b[0;32mIn[13], line 1\u001b[0m\n\u001b[0;32m----> 1\u001b[0m \u001b[43mnome1\u001b[49m\u001b[38;5;241;43m.\u001b[39;49m\u001b[43mstartswitsh\u001b[49m(\u001b[38;5;124m\"\u001b[39m\u001b[38;5;124mjoão\u001b[39m\u001b[38;5;124m\"\u001b[39m)\n",
      "\u001b[0;31mAttributeError\u001b[0m: 'str' object has no attribute 'startswitsh'"
     ]
    }
   ],
   "source": [
    "nome1.startswitsh(\"joão\")"
   ]
  },
  {
   "cell_type": "code",
   "execution_count": 14,
   "id": "a1e9138f",
   "metadata": {},
   "outputs": [
    {
     "data": {
      "text/plain": [
       "False"
      ]
     },
     "execution_count": 14,
     "metadata": {},
     "output_type": "execute_result"
    }
   ],
   "source": [
    "nome1.startswith(\"joão\")"
   ]
  },
  {
   "cell_type": "code",
   "execution_count": 15,
   "id": "5edda150",
   "metadata": {},
   "outputs": [
    {
     "data": {
      "text/plain": [
       "True"
      ]
     },
     "execution_count": 15,
     "metadata": {},
     "output_type": "execute_result"
    }
   ],
   "source": [
    "nome1.lower().startswith(\"joão\")"
   ]
  },
  {
   "cell_type": "code",
   "execution_count": 16,
   "id": "feb20e50",
   "metadata": {},
   "outputs": [
    {
     "data": {
      "text/plain": [
       "True"
      ]
     },
     "execution_count": 16,
     "metadata": {},
     "output_type": "execute_result"
    }
   ],
   "source": [
    "nome1.endswith(\"ão\")"
   ]
  },
  {
   "cell_type": "code",
   "execution_count": 17,
   "id": "72eaf04f",
   "metadata": {},
   "outputs": [
    {
     "name": "stdout",
     "output_type": "stream",
     "text": [
      "É uma imagem\n"
     ]
    }
   ],
   "source": [
    "arquivo = \"imagem.png\"\n",
    "if arquivo.lower().endswith(\".png\"):\n",
    "    print(\"É uma imagem\")\n",
    "else:\n",
    "    print(\"Não é imagem\")\n"
   ]
  },
  {
   "cell_type": "code",
   "execution_count": 18,
   "id": "90457845",
   "metadata": {},
   "outputs": [
    {
     "data": {
      "text/plain": [
       "['João', 'Pancadão']"
      ]
     },
     "execution_count": 18,
     "metadata": {},
     "output_type": "execute_result"
    }
   ],
   "source": [
    "nome1.split(\" \")"
   ]
  },
  {
   "cell_type": "code",
   "execution_count": 19,
   "id": "2dd47607",
   "metadata": {},
   "outputs": [
    {
     "ename": "NameError",
     "evalue": "name 'diretorio' is not defined",
     "output_type": "error",
     "traceback": [
      "\u001b[0;31m---------------------------------------------------------------------------\u001b[0m",
      "\u001b[0;31mNameError\u001b[0m                                 Traceback (most recent call last)",
      "Cell \u001b[0;32mIn[19], line 2\u001b[0m\n\u001b[1;32m      1\u001b[0m diretório \u001b[38;5;241m=\u001b[39m \u001b[38;5;124m\"\u001b[39m\u001b[38;5;124m/documentos/arquivos\u001b[39m\u001b[38;5;124m\"\u001b[39m\n\u001b[0;32m----> 2\u001b[0m \u001b[43mdiretorio\u001b[49m\u001b[38;5;241m.\u001b[39msplit(\u001b[38;5;124m\"\u001b[39m\u001b[38;5;124m/\u001b[39m\u001b[38;5;124m\"\u001b[39m)\n",
      "\u001b[0;31mNameError\u001b[0m: name 'diretorio' is not defined"
     ]
    }
   ],
   "source": [
    "diretorio = \"~/documentos/arquivos\"\n",
    "diretorio.split(\"/\")"
   ]
  },
  {
   "cell_type": "code",
   "execution_count": 20,
   "id": "a2015e53",
   "metadata": {},
   "outputs": [
    {
     "data": {
      "text/plain": [
       "['~', 'documentos', 'arquivos']"
      ]
     },
     "execution_count": 20,
     "metadata": {},
     "output_type": "execute_result"
    }
   ],
   "source": [
    "diretorio = \"~/documentos/arquivos\"\n",
    "diretorio.split(\"/\")"
   ]
  },
  {
   "cell_type": "code",
   "execution_count": 21,
   "id": "3c25598b",
   "metadata": {},
   "outputs": [
    {
     "name": "stdout",
     "output_type": "stream",
     "text": [
      "imagem.png\n"
     ]
    }
   ],
   "source": [
    "nome_imagem = arquivo.lower().split(\"·png\")[0]\n",
    "print(nome_imagem)"
   ]
  },
  {
   "cell_type": "code",
   "execution_count": 22,
   "id": "3d4d8828",
   "metadata": {},
   "outputs": [
    {
     "ename": "TypeError",
     "evalue": "can only join an iterable",
     "output_type": "error",
     "traceback": [
      "\u001b[0;31m---------------------------------------------------------------------------\u001b[0m",
      "\u001b[0;31mTypeError\u001b[0m                                 Traceback (most recent call last)",
      "Cell \u001b[0;32mIn[22], line 1\u001b[0m\n\u001b[0;32m----> 1\u001b[0m diretorio1 \u001b[38;5;241m=\u001b[39m \u001b[38;5;124;43m\"\u001b[39;49m\u001b[38;5;124;43m/\u001b[39;49m\u001b[38;5;124;43m\"\u001b[39;49m\u001b[43m \u001b[49m\u001b[38;5;241;43m.\u001b[39;49m\u001b[43mjoin\u001b[49m\u001b[43m(\u001b[49m\u001b[38;5;28;43mdir\u001b[39;49m\u001b[43m)\u001b[49m\n\u001b[1;32m      2\u001b[0m \u001b[38;5;28mprint\u001b[39m(diretorio1)\n",
      "\u001b[0;31mTypeError\u001b[0m: can only join an iterable"
     ]
    }
   ],
   "source": [
    "diretorio1 = \"/\".join(dir)\n",
    "print(diretorio1)"
   ]
  },
  {
   "cell_type": "code",
   "execution_count": 23,
   "id": "4dfaee85",
   "metadata": {},
   "outputs": [
    {
     "ename": "TypeError",
     "evalue": "can only join an iterable",
     "output_type": "error",
     "traceback": [
      "\u001b[0;31m---------------------------------------------------------------------------\u001b[0m",
      "\u001b[0;31mTypeError\u001b[0m                                 Traceback (most recent call last)",
      "Cell \u001b[0;32mIn[23], line 1\u001b[0m\n\u001b[0;32m----> 1\u001b[0m diretorio1 \u001b[38;5;241m=\u001b[39m \u001b[38;5;124;43m\"\u001b[39;49m\u001b[38;5;124;43m/\u001b[39;49m\u001b[38;5;124;43m\"\u001b[39;49m\u001b[38;5;241;43m.\u001b[39;49m\u001b[43mjoin\u001b[49m\u001b[43m(\u001b[49m\u001b[38;5;28;43mdir\u001b[39;49m\u001b[43m)\u001b[49m\n\u001b[1;32m      2\u001b[0m \u001b[38;5;28mprint\u001b[39m(diretorio1)\n",
      "\u001b[0;31mTypeError\u001b[0m: can only join an iterable"
     ]
    }
   ],
   "source": [
    "diretorio1 = \" \".join(dir)\n",
    "print(diretorio1)"
   ]
  },
  {
   "cell_type": "code",
   "execution_count": 24,
   "id": "83a5f0a5",
   "metadata": {},
   "outputs": [
    {
     "ename": "TypeError",
     "evalue": "can only join an iterable",
     "output_type": "error",
     "traceback": [
      "\u001b[0;31m---------------------------------------------------------------------------\u001b[0m",
      "\u001b[0;31mTypeError\u001b[0m                                 Traceback (most recent call last)",
      "Cell \u001b[0;32mIn[24], line 1\u001b[0m\n\u001b[0;32m----> 1\u001b[0m diretorio1 \u001b[38;5;241m=\u001b[39m \u001b[38;5;124;43m\"\u001b[39;49m\u001b[38;5;124;43m \u001b[39;49m\u001b[38;5;124;43m\"\u001b[39;49m\u001b[38;5;241;43m.\u001b[39;49m\u001b[43mjoin\u001b[49m\u001b[43m(\u001b[49m\u001b[38;5;28;43mdir\u001b[39;49m\u001b[43m)\u001b[49m\n\u001b[1;32m      2\u001b[0m \u001b[38;5;28mprint\u001b[39m(diretorio1)\n",
      "\u001b[0;31mTypeError\u001b[0m: can only join an iterable"
     ]
    }
   ],
   "source": [
    "diretorio1 = \" \".join(dir)\n",
    "print(diretorio1)"
   ]
  },
  {
   "cell_type": "code",
   "execution_count": 25,
   "id": "b4564f4d",
   "metadata": {},
   "outputs": [
    {
     "ename": "TypeError",
     "evalue": "can only join an iterable",
     "output_type": "error",
     "traceback": [
      "\u001b[0;31m---------------------------------------------------------------------------\u001b[0m",
      "\u001b[0;31mTypeError\u001b[0m                                 Traceback (most recent call last)",
      "Cell \u001b[0;32mIn[25], line 1\u001b[0m\n\u001b[0;32m----> 1\u001b[0m diretorio \u001b[38;5;241m=\u001b[39m \u001b[38;5;124;43m\"\u001b[39;49m\u001b[38;5;124;43m \u001b[39;49m\u001b[38;5;124;43m\"\u001b[39;49m\u001b[38;5;241;43m.\u001b[39;49m\u001b[43mjoin\u001b[49m\u001b[43m(\u001b[49m\u001b[38;5;28;43mdir\u001b[39;49m\u001b[43m)\u001b[49m\n\u001b[1;32m      2\u001b[0m \u001b[38;5;28mprint\u001b[39m(diretorio)\n",
      "\u001b[0;31mTypeError\u001b[0m: can only join an iterable"
     ]
    }
   ],
   "source": [
    "diretorio = \" \".join(dir)\n",
    "print(diretorio)"
   ]
  },
  {
   "cell_type": "code",
   "execution_count": 26,
   "id": "6bf98aa7",
   "metadata": {},
   "outputs": [
    {
     "name": "stdout",
     "output_type": "stream",
     "text": [
      "A Casa de Paulo é azul\n"
     ]
    }
   ],
   "source": [
    "palavras = ['A', 'Casa', 'de', 'Paulo', 'é', 'azul']\n",
    "\n",
    "frase = ' '.join(palavras)\n",
    "print(frase)"
   ]
  },
  {
   "cell_type": "code",
   "execution_count": 27,
   "id": "a0de5792",
   "metadata": {},
   "outputs": [
    {
     "name": "stdout",
     "output_type": "stream",
     "text": [
      "['J', 'o', 'ã', 'o', ' ', 'P', 'a', 'n', 'c', 'a', 'd', 'ã', 'o']\n"
     ]
    }
   ],
   "source": [
    "strip1 = list(nome1)\n",
    "print(strip1)"
   ]
  },
  {
   "cell_type": "code",
   "execution_count": null,
   "id": "0346a067",
   "metadata": {},
   "outputs": [],
   "source": [
    "nome1"
   ]
  }
 ],
 "metadata": {
  "kernelspec": {
   "display_name": "Python 3 (ipykernel)",
   "language": "python",
   "name": "python3"
  },
  "language_info": {
   "codemirror_mode": {
    "name": "ipython",
    "version": 3
   },
   "file_extension": ".py",
   "mimetype": "text/x-python",
   "name": "python",
   "nbconvert_exporter": "python",
   "pygments_lexer": "ipython3",
   "version": "3.10.6"
  }
 },
 "nbformat": 4,
 "nbformat_minor": 5
}
