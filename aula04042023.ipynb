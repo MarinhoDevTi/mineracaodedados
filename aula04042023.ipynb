{
 "cells": [
  {
   "cell_type": "code",
   "execution_count": 1,
   "id": "e5f5a42e",
   "metadata": {},
   "outputs": [
    {
     "ename": "SyntaxError",
     "evalue": "invalid syntax (2867582002.py, line 2)",
     "output_type": "error",
     "traceback": [
      "\u001b[0;36m  Cell \u001b[0;32mIn[1], line 2\u001b[0;36m\u001b[0m\n\u001b[0;31m    nome2=\u001b[0m\n\u001b[0m          ^\u001b[0m\n\u001b[0;31mSyntaxError\u001b[0m\u001b[0;31m:\u001b[0m invalid syntax\n"
     ]
    }
   ],
   "source": [
    "nome1=\"João Pancadão\"\n",
    "nome2=\"Marina Silva\"\n"
   ]
  },
  {
   "cell_type": "code",
   "execution_count": 2,
   "id": "4c7683bf",
   "metadata": {},
   "outputs": [],
   "source": [
    "nome1=\"João Pancadão\"\n",
    "nome2=\"Marina Silva\""
   ]
  },
  {
   "cell_type": "code",
   "execution_count": 3,
   "id": "81723cc8",
   "metadata": {},
   "outputs": [
    {
     "data": {
      "text/plain": [
       "'J'"
      ]
     },
     "execution_count": 3,
     "metadata": {},
     "output_type": "execute_result"
    }
   ],
   "source": [
    "nome1[0]"
   ]
  },
  {
   "cell_type": "code",
   "execution_count": 4,
   "id": "896139eb",
   "metadata": {},
   "outputs": [
    {
     "data": {
      "text/plain": [
       "'a'"
      ]
     },
     "execution_count": 4,
     "metadata": {},
     "output_type": "execute_result"
    }
   ],
   "source": [
    "nome1[6]"
   ]
  },
  {
   "cell_type": "code",
   "execution_count": 5,
   "id": "86b5372f",
   "metadata": {},
   "outputs": [
    {
     "data": {
      "text/plain": [
       "'ã'"
      ]
     },
     "execution_count": 5,
     "metadata": {},
     "output_type": "execute_result"
    }
   ],
   "source": [
    "nome1[-2]"
   ]
  },
  {
   "cell_type": "code",
   "execution_count": 6,
   "id": "9ab7beea",
   "metadata": {},
   "outputs": [
    {
     "data": {
      "text/plain": [
       "'Jo'"
      ]
     },
     "execution_count": 6,
     "metadata": {},
     "output_type": "execute_result"
    }
   ],
   "source": [
    "nome1[:2]"
   ]
  },
  {
   "cell_type": "code",
   "execution_count": 7,
   "id": "13a573ff",
   "metadata": {},
   "outputs": [
    {
     "data": {
      "text/plain": [
       "'ão '"
      ]
     },
     "execution_count": 7,
     "metadata": {},
     "output_type": "execute_result"
    }
   ],
   "source": [
    "nome1[2:5]"
   ]
  },
  {
   "cell_type": "code",
   "execution_count": 8,
   "id": "18a6975b",
   "metadata": {},
   "outputs": [
    {
     "data": {
      "text/plain": [
       "13"
      ]
     },
     "execution_count": 8,
     "metadata": {},
     "output_type": "execute_result"
    }
   ],
   "source": [
    "len(nome1)"
   ]
  },
  {
   "cell_type": "code",
   "execution_count": 9,
   "id": "ec4a76ac",
   "metadata": {},
   "outputs": [
    {
     "ename": "TypeError",
     "evalue": "'str' object does not support item assignment",
     "output_type": "error",
     "traceback": [
      "\u001b[0;31m---------------------------------------------------------------------------\u001b[0m",
      "\u001b[0;31mTypeError\u001b[0m                                 Traceback (most recent call last)",
      "Cell \u001b[0;32mIn[9], line 1\u001b[0m\n\u001b[0;32m----> 1\u001b[0m \u001b[43mnome1\u001b[49m\u001b[43m[\u001b[49m\u001b[38;5;241;43m5\u001b[39;49m\u001b[43m]\u001b[49m\u001b[38;5;241m=\u001b[39m\u001b[38;5;124m'\u001b[39m\u001b[38;5;124ml\u001b[39m\u001b[38;5;124m'\u001b[39m\n",
      "\u001b[0;31mTypeError\u001b[0m: 'str' object does not support item assignment"
     ]
    }
   ],
   "source": [
    "nome1[5]='l'"
   ]
  },
  {
   "cell_type": "code",
   "execution_count": 10,
   "id": "8e05eee5",
   "metadata": {},
   "outputs": [
    {
     "ename": "AttributeError",
     "evalue": "'str' object has no attribute 'uopper'",
     "output_type": "error",
     "traceback": [
      "\u001b[0;31m---------------------------------------------------------------------------\u001b[0m",
      "\u001b[0;31mAttributeError\u001b[0m                            Traceback (most recent call last)",
      "Cell \u001b[0;32mIn[10], line 1\u001b[0m\n\u001b[0;32m----> 1\u001b[0m \u001b[43mnome1\u001b[49m\u001b[38;5;241;43m.\u001b[39;49m\u001b[43muopper\u001b[49m()\n",
      "\u001b[0;31mAttributeError\u001b[0m: 'str' object has no attribute 'uopper'"
     ]
    }
   ],
   "source": [
    "nome1.uopper()"
   ]
  },
  {
   "cell_type": "code",
   "execution_count": 11,
   "id": "38c2bd45",
   "metadata": {},
   "outputs": [
    {
     "data": {
      "text/plain": [
       "'JOÃO PANCADÃO'"
      ]
     },
     "execution_count": 11,
     "metadata": {},
     "output_type": "execute_result"
    }
   ],
   "source": [
    "nome1.upper()"
   ]
  },
  {
   "cell_type": "code",
   "execution_count": 12,
   "id": "4698ad58",
   "metadata": {},
   "outputs": [
    {
     "data": {
      "text/plain": [
       "False"
      ]
     },
     "execution_count": 12,
     "metadata": {},
     "output_type": "execute_result"
    }
   ],
   "source": [
    "nome1.startswith(\"Pedro\")"
   ]
  },
  {
   "cell_type": "code",
   "execution_count": 13,
   "id": "72377bcc",
   "metadata": {},
   "outputs": [
    {
     "ename": "AttributeError",
     "evalue": "'str' object has no attribute 'startswitsh'",
     "output_type": "error",
     "traceback": [
      "\u001b[0;31m---------------------------------------------------------------------------\u001b[0m",
      "\u001b[0;31mAttributeError\u001b[0m                            Traceback (most recent call last)",
      "Cell \u001b[0;32mIn[13], line 1\u001b[0m\n\u001b[0;32m----> 1\u001b[0m \u001b[43mnome1\u001b[49m\u001b[38;5;241;43m.\u001b[39;49m\u001b[43mstartswitsh\u001b[49m(\u001b[38;5;124m\"\u001b[39m\u001b[38;5;124mjoão\u001b[39m\u001b[38;5;124m\"\u001b[39m)\n",
      "\u001b[0;31mAttributeError\u001b[0m: 'str' object has no attribute 'startswitsh'"
     ]
    }
   ],
   "source": [
    "nome1.startswitsh(\"joão\")"
   ]
  },
  {
   "cell_type": "code",
   "execution_count": 14,
   "id": "b1ccc466",
   "metadata": {},
   "outputs": [
    {
     "data": {
      "text/plain": [
       "False"
      ]
     },
     "execution_count": 14,
     "metadata": {},
     "output_type": "execute_result"
    }
   ],
   "source": [
    "nome1.startswith(\"joão\")"
   ]
  },
  {
   "cell_type": "code",
   "execution_count": 15,
   "id": "78f95ba2",
   "metadata": {},
   "outputs": [
    {
     "data": {
      "text/plain": [
       "True"
      ]
     },
     "execution_count": 15,
     "metadata": {},
     "output_type": "execute_result"
    }
   ],
   "source": [
    "nome1.lower().startswith(\"joão\")"
   ]
  },
  {
   "cell_type": "code",
   "execution_count": 16,
   "id": "3d1a99a4",
   "metadata": {},
   "outputs": [
    {
     "data": {
      "text/plain": [
       "True"
      ]
     },
     "execution_count": 16,
     "metadata": {},
     "output_type": "execute_result"
    }
   ],
   "source": [
    "nome1.endswith(\"ão\")"
   ]
  },
  {
   "cell_type": "code",
   "execution_count": 17,
   "id": "5ae53133",
   "metadata": {},
   "outputs": [
    {
     "name": "stdout",
     "output_type": "stream",
     "text": [
      "É uma imagem\n"
     ]
    }
   ],
   "source": [
    "arquivo = \"imagem.png\"\n",
    "if arquivo.lower().endswith(\".png\"):\n",
    "    print(\"É uma imagem\")\n",
    "else:\n",
    "    print(\"Não é imagem\")\n"
   ]
  },
  {
   "cell_type": "code",
   "execution_count": 18,
   "id": "f7cec28e",
   "metadata": {},
   "outputs": [
    {
     "data": {
      "text/plain": [
       "['João', 'Pancadão']"
      ]
     },
     "execution_count": 18,
     "metadata": {},
     "output_type": "execute_result"
    }
   ],
   "source": [
    "nome1.split(\" \")"
   ]
  },
  {
   "cell_type": "code",
   "execution_count": 19,
   "id": "07134227",
   "metadata": {},
   "outputs": [
    {
     "ename": "NameError",
     "evalue": "name 'diretorio' is not defined",
     "output_type": "error",
     "traceback": [
      "\u001b[0;31m---------------------------------------------------------------------------\u001b[0m",
      "\u001b[0;31mNameError\u001b[0m                                 Traceback (most recent call last)",
      "Cell \u001b[0;32mIn[19], line 2\u001b[0m\n\u001b[1;32m      1\u001b[0m diretório \u001b[38;5;241m=\u001b[39m \u001b[38;5;124m\"\u001b[39m\u001b[38;5;124m/documentos/arquivos\u001b[39m\u001b[38;5;124m\"\u001b[39m\n\u001b[0;32m----> 2\u001b[0m \u001b[43mdiretorio\u001b[49m\u001b[38;5;241m.\u001b[39msplit(\u001b[38;5;124m\"\u001b[39m\u001b[38;5;124m/\u001b[39m\u001b[38;5;124m\"\u001b[39m)\n",
      "\u001b[0;31mNameError\u001b[0m: name 'diretorio' is not defined"
     ]
    }
   ],
   "source": [
    "diretorio = \"~/documentos/arquivos\"\n",
    "diretorio.split(\"/\")"
   ]
  },
  {
   "cell_type": "code",
   "execution_count": 20,
   "id": "f43bf1a6",
   "metadata": {},
   "outputs": [
    {
     "data": {
      "text/plain": [
       "['~', 'documentos', 'arquivos']"
      ]
     },
     "execution_count": 20,
     "metadata": {},
     "output_type": "execute_result"
    }
   ],
   "source": [
    "diretorio = \"~/documentos/arquivos\"\n",
    "diretorio.split(\"/\")"
   ]
  },
  {
   "cell_type": "code",
   "execution_count": 21,
   "id": "d9c6baab",
   "metadata": {},
   "outputs": [
    {
     "name": "stdout",
     "output_type": "stream",
     "text": [
      "imagem.png\n"
     ]
    }
   ],
   "source": [
    "nome_imagem = arquivo.lower().split(\"·png\")[0]\n",
    "print(nome_imagem)"
   ]
  },
  {
   "cell_type": "code",
   "execution_count": 22,
   "id": "0c4f1371",
   "metadata": {},
   "outputs": [
    {
     "ename": "TypeError",
     "evalue": "can only join an iterable",
     "output_type": "error",
     "traceback": [
      "\u001b[0;31m---------------------------------------------------------------------------\u001b[0m",
      "\u001b[0;31mTypeError\u001b[0m                                 Traceback (most recent call last)",
      "Cell \u001b[0;32mIn[22], line 1\u001b[0m\n\u001b[0;32m----> 1\u001b[0m diretorio1 \u001b[38;5;241m=\u001b[39m \u001b[38;5;124;43m\"\u001b[39;49m\u001b[38;5;124;43m/\u001b[39;49m\u001b[38;5;124;43m\"\u001b[39;49m\u001b[43m \u001b[49m\u001b[38;5;241;43m.\u001b[39;49m\u001b[43mjoin\u001b[49m\u001b[43m(\u001b[49m\u001b[38;5;28;43mdir\u001b[39;49m\u001b[43m)\u001b[49m\n\u001b[1;32m      2\u001b[0m \u001b[38;5;28mprint\u001b[39m(diretorio1)\n",
      "\u001b[0;31mTypeError\u001b[0m: can only join an iterable"
     ]
    }
   ],
   "source": [
    "diretorio1 = \"/\".join(dir)\n",
    "print(diretorio1)"
   ]
  },
  {
   "cell_type": "code",
   "execution_count": 23,
   "id": "37ed929d",
   "metadata": {},
   "outputs": [
    {
     "ename": "TypeError",
     "evalue": "can only join an iterable",
     "output_type": "error",
     "traceback": [
      "\u001b[0;31m---------------------------------------------------------------------------\u001b[0m",
      "\u001b[0;31mTypeError\u001b[0m                                 Traceback (most recent call last)",
      "Cell \u001b[0;32mIn[23], line 1\u001b[0m\n\u001b[0;32m----> 1\u001b[0m diretorio1 \u001b[38;5;241m=\u001b[39m \u001b[38;5;124;43m\"\u001b[39;49m\u001b[38;5;124;43m/\u001b[39;49m\u001b[38;5;124;43m\"\u001b[39;49m\u001b[38;5;241;43m.\u001b[39;49m\u001b[43mjoin\u001b[49m\u001b[43m(\u001b[49m\u001b[38;5;28;43mdir\u001b[39;49m\u001b[43m)\u001b[49m\n\u001b[1;32m      2\u001b[0m \u001b[38;5;28mprint\u001b[39m(diretorio1)\n",
      "\u001b[0;31mTypeError\u001b[0m: can only join an iterable"
     ]
    }
   ],
   "source": [
    "diretorio1 = \" \".join(dir)\n",
    "print(diretorio1)"
   ]
  },
  {
   "cell_type": "code",
   "execution_count": 24,
   "id": "5688f047",
   "metadata": {},
   "outputs": [
    {
     "ename": "TypeError",
     "evalue": "can only join an iterable",
     "output_type": "error",
     "traceback": [
      "\u001b[0;31m---------------------------------------------------------------------------\u001b[0m",
      "\u001b[0;31mTypeError\u001b[0m                                 Traceback (most recent call last)",
      "Cell \u001b[0;32mIn[24], line 1\u001b[0m\n\u001b[0;32m----> 1\u001b[0m diretorio1 \u001b[38;5;241m=\u001b[39m \u001b[38;5;124;43m\"\u001b[39;49m\u001b[38;5;124;43m \u001b[39;49m\u001b[38;5;124;43m\"\u001b[39;49m\u001b[38;5;241;43m.\u001b[39;49m\u001b[43mjoin\u001b[49m\u001b[43m(\u001b[49m\u001b[38;5;28;43mdir\u001b[39;49m\u001b[43m)\u001b[49m\n\u001b[1;32m      2\u001b[0m \u001b[38;5;28mprint\u001b[39m(diretorio1)\n",
      "\u001b[0;31mTypeError\u001b[0m: can only join an iterable"
     ]
    }
   ],
   "source": [
    "diretorio1 = \" \".join(dir)\n",
    "print(diretorio1)"
   ]
  },
  {
   "cell_type": "code",
   "execution_count": 25,
   "id": "07d19e3f",
   "metadata": {},
   "outputs": [
    {
     "ename": "TypeError",
     "evalue": "can only join an iterable",
     "output_type": "error",
     "traceback": [
      "\u001b[0;31m---------------------------------------------------------------------------\u001b[0m",
      "\u001b[0;31mTypeError\u001b[0m                                 Traceback (most recent call last)",
      "Cell \u001b[0;32mIn[25], line 1\u001b[0m\n\u001b[0;32m----> 1\u001b[0m diretorio \u001b[38;5;241m=\u001b[39m \u001b[38;5;124;43m\"\u001b[39;49m\u001b[38;5;124;43m \u001b[39;49m\u001b[38;5;124;43m\"\u001b[39;49m\u001b[38;5;241;43m.\u001b[39;49m\u001b[43mjoin\u001b[49m\u001b[43m(\u001b[49m\u001b[38;5;28;43mdir\u001b[39;49m\u001b[43m)\u001b[49m\n\u001b[1;32m      2\u001b[0m \u001b[38;5;28mprint\u001b[39m(diretorio)\n",
      "\u001b[0;31mTypeError\u001b[0m: can only join an iterable"
     ]
    }
   ],
   "source": [
    "diretorio = \" \".join(dir)\n",
    "print(diretorio)"
   ]
  },
  {
   "cell_type": "code",
   "execution_count": 26,
   "id": "66ebfd9e",
   "metadata": {},
   "outputs": [
    {
     "name": "stdout",
     "output_type": "stream",
     "text": [
      "A Casa de Paulo é azul\n"
     ]
    }
   ],
   "source": [
    "palavras = ['A', 'Casa', 'de', 'Paulo', 'é', 'azul']\n",
    "\n",
    "frase = ' '.join(palavras)\n",
    "print(frase)"
   ]
  },
  {
   "cell_type": "code",
   "execution_count": 27,
   "id": "b0597057",
   "metadata": {},
   "outputs": [
    {
     "name": "stdout",
     "output_type": "stream",
     "text": [
      "['J', 'o', 'ã', 'o', ' ', 'P', 'a', 'n', 'c', 'a', 'd', 'ã', 'o']\n"
     ]
    }
   ],
   "source": [
    "strip1 = list(nome1)\n",
    "print(strip1)"
   ]
  },
  {
   "cell_type": "code",
   "execution_count": 28,
   "id": "d41c3460",
   "metadata": {},
   "outputs": [
    {
     "name": "stdout",
     "output_type": "stream",
     "text": [
      "João Pancadão\n"
     ]
    }
   ],
   "source": [
    "nome1 = ''.join(strip1)\n",
    "print(nome1)"
   ]
  },
  {
   "cell_type": "code",
   "execution_count": 29,
   "id": "170fea2d",
   "metadata": {},
   "outputs": [
    {
     "name": "stdout",
     "output_type": "stream",
     "text": [
      "João Pancadão\n"
     ]
    }
   ],
   "source": [
    "nome3 = nome1.replace(\"jopo\", \"João\")\n",
    "print(nome3)"
   ]
  },
  {
   "cell_type": "code",
   "execution_count": 30,
   "id": "6b7e7633",
   "metadata": {},
   "outputs": [
    {
     "ename": "SyntaxError",
     "evalue": "invalid syntax (4063932171.py, line 1)",
     "output_type": "error",
     "traceback": [
      "\u001b[0;36m  Cell \u001b[0;32mIn[30], line 1\u001b[0;36m\u001b[0m\n\u001b[0;31m    nome4 nome1+ ' '+ nome2\u001b[0m\n\u001b[0m          ^\u001b[0m\n\u001b[0;31mSyntaxError\u001b[0m\u001b[0;31m:\u001b[0m invalid syntax\n"
     ]
    }
   ],
   "source": [
    "nome4 nome1+ ' '+ nome2\n"
   ]
  },
  {
   "cell_type": "code",
   "execution_count": 32,
   "id": "f8b6c66e",
   "metadata": {},
   "outputs": [],
   "source": [
    "nome4 = nome1+ ' '+ nome2\n"
   ]
  },
  {
   "cell_type": "code",
   "execution_count": 33,
   "id": "c397d0c4",
   "metadata": {},
   "outputs": [
    {
     "name": "stdout",
     "output_type": "stream",
     "text": [
      "João Pancadão Marina Silva\n"
     ]
    }
   ],
   "source": [
    "print(nome4)"
   ]
  },
  {
   "cell_type": "code",
   "execution_count": 34,
   "id": "2160010f",
   "metadata": {},
   "outputs": [
    {
     "ename": "NameError",
     "evalue": "name 'João' is not defined",
     "output_type": "error",
     "traceback": [
      "\u001b[0;31m---------------------------------------------------------------------------\u001b[0m",
      "\u001b[0;31mNameError\u001b[0m                                 Traceback (most recent call last)",
      "Cell \u001b[0;32mIn[34], line 1\u001b[0m\n\u001b[0;32m----> 1\u001b[0m \u001b[38;5;28mprint\u001b[39m(\u001b[43mJoão\u001b[49m \u001b[38;5;241m+\u001b[39mnome1 [\u001b[38;5;241m4\u001b[39m:\u001b[38;5;241m1\u001b[39m])\n",
      "\u001b[0;31mNameError\u001b[0m: name 'João' is not defined"
     ]
    }
   ],
   "source": [
    "print(\"João\" +nome1 [4:1])"
   ]
  },
  {
   "cell_type": "code",
   "execution_count": 35,
   "id": "885c5cca",
   "metadata": {},
   "outputs": [
    {
     "name": "stdout",
     "output_type": "stream",
     "text": [
      "João\n"
     ]
    }
   ],
   "source": [
    "print(\"João\" +nome1 [4:])"
   ]
  },
  {
   "cell_type": "code",
   "execution_count": 36,
   "id": "3997c40e",
   "metadata": {},
   "outputs": [
    {
     "name": "stdout",
     "output_type": "stream",
     "text": [
      "João Pancadão\n"
     ]
    }
   ],
   "source": [
    "print(\"João\" +nome1 [4:])"
   ]
  },
  {
   "cell_type": "code",
   "execution_count": 37,
   "id": "4f74c65c",
   "metadata": {},
   "outputs": [],
   "source": [
    "lista = [1,2,3,4]\n",
    "tupla = (1,2,3)"
   ]
  },
  {
   "cell_type": "code",
   "execution_count": 38,
   "id": "902ced20",
   "metadata": {},
   "outputs": [
    {
     "name": "stdout",
     "output_type": "stream",
     "text": [
      "<class 'tuple'>\n"
     ]
    }
   ],
   "source": [
    "tupla2 = 1,2,3\n",
    "print(type(tupla2))"
   ]
  },
  {
   "cell_type": "code",
   "execution_count": 39,
   "id": "1af5814d",
   "metadata": {},
   "outputs": [
    {
     "name": "stdout",
     "output_type": "stream",
     "text": [
      "(1, 2, 3)\n"
     ]
    }
   ],
   "source": [
    "print(tupla2)"
   ]
  },
  {
   "cell_type": "code",
   "execution_count": 40,
   "id": "3edfae74",
   "metadata": {},
   "outputs": [
    {
     "name": "stdout",
     "output_type": "stream",
     "text": [
      "1\n",
      "2\n",
      "3\n"
     ]
    }
   ],
   "source": [
    "x, y, z = tupla\n",
    "print(x)\n",
    "print(y)\n",
    "print(z)\n"
   ]
  },
  {
   "cell_type": "code",
   "execution_count": 41,
   "id": "e93da321",
   "metadata": {},
   "outputs": [
    {
     "name": "stdout",
     "output_type": "stream",
     "text": [
      "[10, 2, 3, 4]\n"
     ]
    }
   ],
   "source": [
    "lista[0] = 10\n",
    "print(lista)"
   ]
  },
  {
   "cell_type": "code",
   "execution_count": null,
   "id": "e8dc5959",
   "metadata": {},
   "outputs": [],
   "source": []
  },
  {
   "cell_type": "code",
   "execution_count": 42,
   "id": "b6c3e4da",
   "metadata": {},
   "outputs": [],
   "source": [
    "lista2 = list(tupla)"
   ]
  },
  {
   "cell_type": "code",
   "execution_count": null,
   "id": "4a397be8",
   "metadata": {},
   "outputs": [],
   "source": []
  },
  {
   "cell_type": "code",
   "execution_count": 43,
   "id": "f11899f5",
   "metadata": {},
   "outputs": [
    {
     "name": "stdout",
     "output_type": "stream",
     "text": [
      "[1, 2, 3]\n"
     ]
    }
   ],
   "source": [
    "print(lista2)"
   ]
  },
  {
   "cell_type": "code",
   "execution_count": 44,
   "id": "56ec6ea6",
   "metadata": {},
   "outputs": [
    {
     "ename": "NameError",
     "evalue": "name 'tupla3' is not defined",
     "output_type": "error",
     "traceback": [
      "\u001b[0;31m---------------------------------------------------------------------------\u001b[0m",
      "\u001b[0;31mNameError\u001b[0m                                 Traceback (most recent call last)",
      "Cell \u001b[0;32mIn[44], line 1\u001b[0m\n\u001b[0;32m----> 1\u001b[0m \u001b[38;5;28mprint\u001b[39m(\u001b[43mtupla3\u001b[49m)\n",
      "\u001b[0;31mNameError\u001b[0m: name 'tupla3' is not defined"
     ]
    }
   ],
   "source": []
  },
  {
   "cell_type": "code",
   "execution_count": 45,
   "id": "63faef57",
   "metadata": {},
   "outputs": [],
   "source": [
    "tupla3 = tuple(lista2)"
   ]
  },
  {
   "cell_type": "code",
   "execution_count": 46,
   "id": "16e870ce",
   "metadata": {},
   "outputs": [
    {
     "name": "stdout",
     "output_type": "stream",
     "text": [
      "(1, 2, 3)\n"
     ]
    }
   ],
   "source": [
    "print(tupla3)"
   ]
  },
  {
   "cell_type": "code",
   "execution_count": 47,
   "id": "f6e240c1",
   "metadata": {},
   "outputs": [
    {
     "name": "stdout",
     "output_type": "stream",
     "text": [
      "['SOL', 'lua', 'planetas']\n"
     ]
    }
   ],
   "source": [
    "lista = ['Sol', 'lua', 'planetas']\n",
    "lista[0] = lista[0].upper()\n",
    "print(lista)"
   ]
  },
  {
   "cell_type": "code",
   "execution_count": 48,
   "id": "2386ace8",
   "metadata": {},
   "outputs": [
    {
     "name": "stdout",
     "output_type": "stream",
     "text": [
      "<zip object at 0x7f138c123b40>\n",
      "[('Ônix', 50000), ('Gol', 30000), ('Uno', 2000)]\n"
     ]
    }
   ],
   "source": [
    "carros = ['Ônix', 'Gol', 'Uno']\n",
    "precos = [50000, 30000, 2000]\n",
    "\n",
    "carros_precos = zip(carros, precos)\n",
    "print(carros_precos)\n",
    "carros_precos = list(carros_precos)\n",
    "print(carros_precos)"
   ]
  },
  {
   "cell_type": "code",
   "execution_count": null,
   "id": "da5123d8",
   "metadata": {},
   "outputs": [],
   "source": []
  }
 ],
 "metadata": {
  "kernelspec": {
   "display_name": "Python 3 (ipykernel)",
   "language": "python",
   "name": "python3"
  },
  "language_info": {
   "codemirror_mode": {
    "name": "ipython",
    "version": 3
   },
   "file_extension": ".py",
   "mimetype": "text/x-python",
   "name": "python",
   "nbconvert_exporter": "python",
   "pygments_lexer": "ipython3",
   "version": "3.10.6"
  }
 },
 "nbformat": 4,
 "nbformat_minor": 5
}
