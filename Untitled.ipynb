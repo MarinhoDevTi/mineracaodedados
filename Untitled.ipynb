{
 "cells": [
  {
   "cell_type": "code",
   "execution_count": 3,
   "id": "cb9dfe54",
   "metadata": {},
   "outputs": [
    {
     "name": "stdout",
     "output_type": "stream",
     "text": [
      "Diogo Marinho \n"
     ]
    }
   ],
   "source": [
    "print (\"Diogo Marinho \")"
   ]
  },
  {
   "cell_type": "code",
   "execution_count": 4,
   "id": "3a3f0a6b",
   "metadata": {},
   "outputs": [
    {
     "name": "stdout",
     "output_type": "stream",
     "text": [
      "Ola\n",
      "Ola\n",
      "Ola\n",
      "Ola\n",
      "Ola\n",
      "Ola\n",
      "Ola\n",
      "Ola\n",
      "Ola\n",
      "Ola\n"
     ]
    }
   ],
   "source": [
    "for i in range (0,10):\n",
    "    print(\"Ola\")"
   ]
  },
  {
   "cell_type": "code",
   "execution_count": 6,
   "id": "530ffee7",
   "metadata": {},
   "outputs": [
    {
     "name": "stdout",
     "output_type": "stream",
     "text": [
      "a\n",
      "b\n",
      "c\n"
     ]
    }
   ],
   "source": [
    "lista = ['a', 'b', 'c']\n",
    "for i in lista:\n",
    "    print(i)\n",
    "        "
   ]
  },
  {
   "cell_type": "code",
   "execution_count": 7,
   "id": "671313dd",
   "metadata": {},
   "outputs": [
    {
     "name": "stdout",
     "output_type": "stream",
     "text": [
      "1\n",
      "1\n",
      "1\n",
      "1\n",
      "1\n",
      "1\n",
      "1\n",
      "1\n",
      "1\n",
      "1\n"
     ]
    }
   ],
   "source": [
    "i = 0\n",
    "j = 10 \n",
    "while i < 10:\n",
    "    print (1)\n",
    "    i+=1"
   ]
  },
  {
   "cell_type": "code",
   "execution_count": 8,
   "id": "6e3ac676",
   "metadata": {},
   "outputs": [],
   "source": [
    "lista1 = [0,1,2,3,4]"
   ]
  },
  {
   "cell_type": "code",
   "execution_count": 9,
   "id": "4dd4b938",
   "metadata": {},
   "outputs": [
    {
     "data": {
      "text/plain": [
       "list"
      ]
     },
     "execution_count": 9,
     "metadata": {},
     "output_type": "execute_result"
    }
   ],
   "source": [
    " type(lista1)"
   ]
  },
  {
   "cell_type": "code",
   "execution_count": 10,
   "id": "bc6d3315",
   "metadata": {},
   "outputs": [],
   "source": [
    "lista2 = ['Diogo', 'Lindo', ]"
   ]
  },
  {
   "cell_type": "code",
   "execution_count": null,
   "id": "71e0a27f",
   "metadata": {},
   "outputs": [],
   "source": [
    "matriz = [[1,2,3], ]"
   ]
  }
 ],
 "metadata": {
  "kernelspec": {
   "display_name": "Python 3 (ipykernel)",
   "language": "python",
   "name": "python3"
  },
  "language_info": {
   "codemirror_mode": {
    "name": "ipython",
    "version": 3
   },
   "file_extension": ".py",
   "mimetype": "text/x-python",
   "name": "python",
   "nbconvert_exporter": "python",
   "pygments_lexer": "ipython3",
   "version": "3.10.6"
  }
 },
 "nbformat": 4,
 "nbformat_minor": 5
}
