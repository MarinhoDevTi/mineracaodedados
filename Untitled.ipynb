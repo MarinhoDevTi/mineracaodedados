{
 "cells": [
  {
   "cell_type": "code",
   "execution_count": 3,
   "id": "e61b600a",
   "metadata": {},
   "outputs": [
    {
     "name": "stdout",
     "output_type": "stream",
     "text": [
      "Diogo Marinho \n"
     ]
    }
   ],
   "source": [
    "print (\"Diogo Marinho \")"
   ]
  },
  {
   "cell_type": "code",
   "execution_count": 4,
   "id": "41cffc29",
   "metadata": {},
   "outputs": [
    {
     "name": "stdout",
     "output_type": "stream",
     "text": [
      "Ola\n",
      "Ola\n",
      "Ola\n",
      "Ola\n",
      "Ola\n",
      "Ola\n",
      "Ola\n",
      "Ola\n",
      "Ola\n",
      "Ola\n"
     ]
    }
   ],
   "source": [
    "for i in range (0,10):\n",
    "    print(\"Ola\")"
   ]
  },
  {
   "cell_type": "code",
   "execution_count": 6,
   "id": "91a96821",
   "metadata": {},
   "outputs": [
    {
     "name": "stdout",
     "output_type": "stream",
     "text": [
      "a\n",
      "b\n",
      "c\n"
     ]
    }
   ],
   "source": [
    "lista = ['a', 'b', 'c']\n",
    "for i in lista:\n",
    "    print(i)\n",
    "        "
   ]
  },
  {
   "cell_type": "code",
   "execution_count": null,
   "id": "ef201f90",
   "metadata": {},
   "outputs": [],
   "source": [
    "i = 0\n",
    "j = 10 \n",
    "while"
   ]
  }
 ],
 "metadata": {
  "kernelspec": {
   "display_name": "Python 3 (ipykernel)",
   "language": "python",
   "name": "python3"
  },
  "language_info": {
   "codemirror_mode": {
    "name": "ipython",
    "version": 3
   },
   "file_extension": ".py",
   "mimetype": "text/x-python",
   "name": "python",
   "nbconvert_exporter": "python",
   "pygments_lexer": "ipython3",
   "version": "3.10.6"
  }
 },
 "nbformat": 4,
 "nbformat_minor": 5
}
