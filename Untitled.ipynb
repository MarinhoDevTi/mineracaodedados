{
 "cells": [
  {
   "cell_type": "code",
   "execution_count": 3,
   "id": "5ecfb068",
   "metadata": {},
   "outputs": [
    {
     "name": "stdout",
     "output_type": "stream",
     "text": [
      "Diogo Marinho \n"
     ]
    }
   ],
   "source": [
    "print (\"Diogo Marinho \")"
   ]
  },
  {
   "cell_type": "code",
   "execution_count": 4,
   "id": "d1090d77",
   "metadata": {},
   "outputs": [
    {
     "name": "stdout",
     "output_type": "stream",
     "text": [
      "Ola\n",
      "Ola\n",
      "Ola\n",
      "Ola\n",
      "Ola\n",
      "Ola\n",
      "Ola\n",
      "Ola\n",
      "Ola\n",
      "Ola\n"
     ]
    }
   ],
   "source": [
    "for i in range (0,10):\n",
    "    print(\"Ola\")"
   ]
  },
  {
   "cell_type": "code",
   "execution_count": 6,
   "id": "c920dac5",
   "metadata": {},
   "outputs": [
    {
     "name": "stdout",
     "output_type": "stream",
     "text": [
      "a\n",
      "b\n",
      "c\n"
     ]
    }
   ],
   "source": [
    "lista = ['a', 'b', 'c']\n",
    "for i in lista:\n",
    "    print(i)\n",
    "        "
   ]
  },
  {
   "cell_type": "code",
   "execution_count": 7,
   "id": "709be65a",
   "metadata": {},
   "outputs": [
    {
     "name": "stdout",
     "output_type": "stream",
     "text": [
      "1\n",
      "1\n",
      "1\n",
      "1\n",
      "1\n",
      "1\n",
      "1\n",
      "1\n",
      "1\n",
      "1\n"
     ]
    }
   ],
   "source": [
    "i = 0\n",
    "j = 10 \n",
    "while i < 10:\n",
    "    print (1)\n",
    "    i+=1"
   ]
  },
  {
   "cell_type": "code",
   "execution_count": 8,
   "id": "0fbd1297",
   "metadata": {},
   "outputs": [],
   "source": [
    "lista1 = [0,1,2,3,4]"
   ]
  },
  {
   "cell_type": "code",
   "execution_count": 9,
   "id": "72f1624b",
   "metadata": {},
   "outputs": [
    {
     "data": {
      "text/plain": [
       "list"
      ]
     },
     "execution_count": 9,
     "metadata": {},
     "output_type": "execute_result"
    }
   ],
   "source": [
    " type(lista1)"
   ]
  },
  {
   "cell_type": "code",
   "execution_count": 10,
   "id": "acb84376",
   "metadata": {},
   "outputs": [],
   "source": [
    "lista2 = ['Diogo', 'Lindo', ]"
   ]
  },
  {
   "cell_type": "code",
   "execution_count": 11,
   "id": "fd2ccb2e",
   "metadata": {},
   "outputs": [
    {
     "name": "stdout",
     "output_type": "stream",
     "text": [
      "[[1, 2, 3], [4, 5, 6], [7, 8, 9]]\n"
     ]
    }
   ],
   "source": [
    "matriz = [[1,2,3], [4,5,6], [7,8,9]]\n",
    "print(matriz)"
   ]
  },
  {
   "cell_type": "code",
   "execution_count": 12,
   "id": "1192cbda",
   "metadata": {},
   "outputs": [
    {
     "name": "stdout",
     "output_type": "stream",
     "text": [
      "[1, 2, 3]\n",
      "[4, 5, 6]\n",
      "[7, 8, 9]\n"
     ]
    }
   ],
   "source": [
    "for linha in matriz:\n",
    "    print(linha)"
   ]
  },
  {
   "cell_type": "code",
   "execution_count": 14,
   "id": "34a70791",
   "metadata": {},
   "outputs": [
    {
     "data": {
      "text/plain": [
       "1"
      ]
     },
     "execution_count": 14,
     "metadata": {},
     "output_type": "execute_result"
    }
   ],
   "source": [
    "matriz[0][0]"
   ]
  },
  {
   "cell_type": "code",
   "execution_count": 15,
   "id": "b53756c0",
   "metadata": {},
   "outputs": [
    {
     "data": {
      "text/plain": [
       "4"
      ]
     },
     "execution_count": 15,
     "metadata": {},
     "output_type": "execute_result"
    }
   ],
   "source": [
    "lista1[-1]"
   ]
  },
  {
   "cell_type": "code",
   "execution_count": 16,
   "id": "ceeae819",
   "metadata": {},
   "outputs": [
    {
     "data": {
      "text/plain": [
       "[1, 2]"
      ]
     },
     "execution_count": 16,
     "metadata": {},
     "output_type": "execute_result"
    }
   ],
   "source": [
    "lista1[1:3]"
   ]
  },
  {
   "cell_type": "code",
   "execution_count": 17,
   "id": "cbf7d4cd",
   "metadata": {},
   "outputs": [
    {
     "name": "stdout",
     "output_type": "stream",
     "text": [
      "O planeta ´é Marte\n",
      "O planeta ´é Venus\n",
      "O planeta ´é Plutao\n",
      "O planeta ´é Terra\n"
     ]
    }
   ],
   "source": [
    "lista3 = ['Marte', 'Venus', 'Plutao', 'Terra']\n",
    "\n",
    "for i in lista3:\n",
    "    print(\"O planeta ´é\", i)\n"
   ]
  },
  {
   "cell_type": "code",
   "execution_count": 18,
   "id": "3bb6a421",
   "metadata": {},
   "outputs": [
    {
     "name": "stdout",
     "output_type": "stream",
     "text": [
      "O planeta 0 é Marte\n",
      "O planeta 1 é Venus\n",
      "O planeta 2 é Plutao\n",
      "O planeta 3 é Terra\n"
     ]
    }
   ],
   "source": [
    "for i, p in enumerate(lista3):\n",
    "    print(f\"O planeta {i} é {p}\")"
   ]
  },
  {
   "cell_type": "code",
   "execution_count": 19,
   "id": "d7e7d665",
   "metadata": {},
   "outputs": [
    {
     "data": {
      "text/plain": [
       "5"
      ]
     },
     "execution_count": 19,
     "metadata": {},
     "output_type": "execute_result"
    }
   ],
   "source": [
    "len(lista1)"
   ]
  },
  {
   "cell_type": "code",
   "execution_count": null,
   "id": "be5f6daa",
   "metadata": {},
   "outputs": [],
   "source": []
  }
 ],
 "metadata": {
  "kernelspec": {
   "display_name": "Python 3 (ipykernel)",
   "language": "python",
   "name": "python3"
  },
  "language_info": {
   "codemirror_mode": {
    "name": "ipython",
    "version": 3
   },
   "file_extension": ".py",
   "mimetype": "text/x-python",
   "name": "python",
   "nbconvert_exporter": "python",
   "pygments_lexer": "ipython3",
   "version": "3.10.6"
  }
 },
 "nbformat": 4,
 "nbformat_minor": 5
}
